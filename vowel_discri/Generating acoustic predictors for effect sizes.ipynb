{
 "cells": [
  {
   "cell_type": "markdown",
   "metadata": {},
   "source": [
    "Development code."
   ]
  },
  {
   "cell_type": "code",
   "execution_count": 141,
   "metadata": {
    "collapsed": true
   },
   "outputs": [],
   "source": [
    "# Requirements: \n",
    "#  - sox + soundfile + our vowel_discri package\n",
    "#  - ABXpy.distances (could be made independent from ABXpy)\n",
    "\n",
    "import soundfile\n",
    "import os\n",
    "import os.path as path\n",
    "import pandas as pd\n",
    "import numpy as np\n",
    "import seaborn\n",
    "from ast import literal_eval as make_tuple\n",
    "import wave\n",
    "import subprocess\n",
    "import shutil\n",
    "\n",
    "\n",
    "# To get vowel_discri from github repo, run:\n",
    "#   export PYTHONPATH=:/path/2/vowel-discri/repository:`$PYTHONPATH`\n",
    "# in the terminal before launching jupyter notebook\n",
    "import vowel_discri.mfcc as mfcc_lib\n",
    "\n",
    "%matplotlib inline"
   ]
  },
  {
   "cell_type": "markdown",
   "metadata": {},
   "source": [
    "### Load relevant data"
   ]
  },
  {
   "cell_type": "code",
   "execution_count": 69,
   "metadata": {
    "collapsed": false
   },
   "outputs": [],
   "source": [
    "# load raw data, this should be changed when we make the repository public\n",
    "# so that the script can be used by anybody to reproduce our results (doing wget to download the files directly\n",
    "# from the OSF server) \n",
    "root = '/Users/admin/Documents/PhD/Data/vowel_discri/osf'\n",
    "wav_dir = path.join(root, 'Stimuli', 'final_stimuli')\n",
    "\n",
    "xp_designs_path = path.join('/Users/admin/Documents/PhD/Data/vowel_discri', 'xp_designs.txt')\n",
    "\n",
    "filename = {'ES': 'InPhonDb_native_nonnative - vowels.csv',\n",
    "            'F1F2_natural': path.join('F1F2_measures', 'formants_natural.txt'),\n",
    "            'F1F2_synthetic': path.join('F1F2_measures', 'formants_synthetic.txt'),\n",
    "            'stim_groups': 'Stimulus name mapping - mapping.csv'}\n",
    "sep = {'ES': \",\", 'F1F2_natural': \"\\t\",'F1F2_synthetic': \"\\t\", 'stim_groups': \",\"}\n",
    "data = {}\n",
    "for key in filename:\n",
    "    data[key] = pd.read_csv(path.join(root, filename[key]), sep=sep[key])"
   ]
  },
  {
   "cell_type": "markdown",
   "metadata": {},
   "source": [
    "### Create XP designs\n",
    "\n",
    "Set up a file describing the base and deviant stimuli used for each trial of each experiment\n",
    "(one experiment==one effect size) to the best of our knowledge. Effect size identifier (\"ES_id\") are obtained from the \"effect_ID\" column of: https://docs.google.com/spreadsheets/d/1zOMMXqKL_wunKTqQ52hkdAFwM5PVhlUX3Vv_29UlIn4/edit#gid=1461185663.\n",
    "\n",
    "For the natural stimuli, the xp_design file is assembled based on \"Stimulus name mapping\" google document set up by Sho (https://docs.google.com/spreadsheets/d/1Yplb66D3E9ow3n-LjEAxxNoyYiJlA0csm1yl05-2GFc/edit#gid=35503803). Habituation stimuli were not included when they were not used during test, provided we were able to identify them (as specified in the google sheet). There might be a need for some corrections. **In particular all stimuli were assumed to be presented at each trial, which might not be accurate.** Another thing might be inaccurate, although it does not matter for the current study since we do not look at asymetries and use only symmetric measures: counterbalancing of base/deviant role was assumed for all experiments. \n",
    "    \n",
    "For the synthetic stimuli, this uses the stimuli names suggested by Sho in the \"Stimulus name mapping\" google document above, but with some corrections. In particular:\n",
    "    - only test stimuli were included\n",
    "    - counterbalancing and included stimuli were matched to the trial structure described in the original papers\n"
   ]
  },
  {
   "cell_type": "code",
   "execution_count": 44,
   "metadata": {
    "collapsed": true
   },
   "outputs": [],
   "source": [
    "def add_kuhl82_es1_design(xp_designs): \n",
    "    # Kuhl82 first effect size has a special trial structure\n",
    "    es_id = 7\n",
    "    study_id = 'Kuhl1982'\n",
    "    bases = [('kuhl82_p1_a_monotone.wav',), ('kuhl82_p1_a_rise_fall.wav',)]\n",
    "    deviants = [('kuhl82_p1_i_monotone.wav',), ('kuhl82_p1_i_rise_fall.wav',)]\n",
    "    counterbalanced = True\n",
    "    trial = 1\n",
    "    for base, deviant in zip(bases, deviants):      \n",
    "        xp_designs['study_id'].append(study_id)\n",
    "        xp_designs['ES_id'].append(es_id)\n",
    "        xp_designs['trial_id'].append(trial)\n",
    "        xp_designs['base_stims'].append(base)\n",
    "        xp_designs['deviant_stims'].append(deviant)\n",
    "        trial = trial+1\n",
    "        if counterbalanced:\n",
    "            xp_designs['study_id'].append(study_id)\n",
    "            xp_designs['ES_id'].append(es_id)\n",
    "            xp_designs['trial_id'].append(trial)\n",
    "            xp_designs['base_stims'].append(deviant)\n",
    "            xp_designs['deviant_stims'].append(base)\n",
    "            trial = trial+1\n",
    "    return xp_designs"
   ]
  },
  {
   "cell_type": "code",
   "execution_count": 45,
   "metadata": {
    "collapsed": false
   },
   "outputs": [],
   "source": [
    "# collect effect size ids\n",
    "pair2ESid = {}\n",
    "pair2studyid = {}\n",
    "for pair, df in data['ES'].groupby('stimulus_pair'):\n",
    "    if not(pair.strip == ''):\n",
    "        pair2ESid[pair] = list(df['effect_ID'])\n",
    "        pair2studyid[pair] = list(df['study_ID'])\n",
    "\n",
    "# get list of stimuli wavs\n",
    "wavs = os.listdir(wav_dir) \n",
    "wavs = [wav for wav in wavs if wav[-4:] == '.wav']\n",
    "# function to determine if a stim is base or deviant\n",
    "# this is ad hoc, as stim could play different roles\n",
    "# in different studies, but works here in combination\n",
    "# with 'not_counterbalanced' below\n",
    "is_base = {\n",
    "    'liu16_p1': lambda name: '_i_' in name,\n",
    "    'mazuka13_p1': lambda name: '_e_' in name,\n",
    "    'mazuka13_p2': lambda name: '_u_' in name,\n",
    "    'mazuka13_p3': lambda name: '_ue_' in name,\n",
    "    'mugitani09_p1': lambda name: '_aa_' in name,\n",
    "    'mugitani09_p2': lambda name: '_aa_' in name,\n",
    "    'phan08_p1': lambda name: '_aimw_' in name,\n",
    "    'phan08_p2': lambda name: '_ais_' in name,\n",
    "    'phan08_p3': lambda name: '_aimw_' in name,\n",
    "    'phan08_p4': lambda name: '_V_' in name,\n",
    "    'polka96_p1': lambda name: '_u_' in name,\n",
    "    'sebastian09_p1': lambda name: '_o_' in name,\n",
    "    'sebastian09_p2': lambda name: '_e_' in name,\n",
    "    'sundara11_p1': lambda name: '_eh_' in name,\n",
    "    'tsuji17_p1': lambda name: '_ei_' in name,\n",
    "    'tsuji17_p2': lambda name: '_oi_' in name,\n",
    "    'tsuji17_p3': lambda name: '_a_' in name,\n",
    "    'versteegh15_p1': lambda name: '_ei_' in name,\n",
    "    'figueras10_p1': lambda name: '_o_' in name,\n",
    "    'cardillo10_p1': lambda name: '_u' in name,\n",
    "    'kuhl79_p1': lambda name: '_a_' in name,\n",
    "    'kuhl82_p1': lambda name: '_a_' in name,\n",
    "    'swoboda76_p1': lambda name: '_i_' in name,\n",
    "    'tsao04_p1': lambda name: '_u' in name, \n",
    "    'marean92_p1': lambda name: '_a_' in name}\n",
    "for i in range(1, 10):\n",
    "    is_base['eilers84_p{}'.format(i)] = lambda name: '300' in name\n",
    "for i in range(1, 5):\n",
    "    is_base['trainor02_p{}'.format(i)] = lambda name: '_i_' in name\n",
    "\n",
    "# list of effect size for which base/deviant role was counterbalanced\n",
    "ll = ['tsao04_p1', 'cardillo10_p1', 'marean92_p1'] +\\\n",
    "     ['eilers84_p{}'.format(i) for i in range(1, 10)]\n",
    "not_counterbalanced = [es_id for pair in ll for es_id in pair2ESid[pair]]\n",
    "\n",
    "# instantiate xp_design structure, study_ID is included for human readability\n",
    "cols = ['study_id', 'ES_id', 'trial_id', 'base_stims', 'deviant_stims']\n",
    "xp_designs = {col : [] for col in cols}\n",
    "for pair in pair2ESid:\n",
    "    if pair == 'sebastian09_p2':\n",
    "        # we ignore this one because we are not sure what the experimental stimuli were\n",
    "        continue\n",
    "    pair_wavs = [wav for wav in wavs if wav[:len(pair)] == pair]\n",
    "    bases = tuple([wav for wav in pair_wavs if is_base[pair](wav)])\n",
    "    deviants = tuple([wav for wav in pair_wavs if not(is_base[pair](wav))])\n",
    "    for ES_id, study_id in zip(pair2ESid[pair], pair2studyid[pair]):\n",
    "        if ES_id == 7:\n",
    "            # Kuhl82 first effect size has a special trial structure\n",
    "            assert pair == 'kuhl82_p1'\n",
    "            xp_designs = add_kuhl82_es1_design(xp_designs)\n",
    "        else:\n",
    "            xp_designs['study_id'].append(study_id)\n",
    "            xp_designs['ES_id'].append(ES_id)\n",
    "            xp_designs['trial_id'].append(1)\n",
    "            xp_designs['base_stims'].append(bases)\n",
    "            xp_designs['deviant_stims'].append(deviants)\n",
    "            if not(ES_id in not_counterbalanced):\n",
    "                # counterbalance base/deviant role\n",
    "                xp_designs['study_id'].append(study_id)\n",
    "                xp_designs['ES_id'].append(ES_id)\n",
    "                xp_designs['trial_id'].append(2)\n",
    "                xp_designs['base_stims'].append(deviants)\n",
    "                xp_designs['deviant_stims'].append(bases)\n",
    "xp_designs = pd.DataFrame(xp_designs)\n",
    "# make sure column order is nice\n",
    "xp_designs = xp_designs[cols]\n",
    "# make sure row order is nice\n",
    "xp_designs = xp_designs.sort_values([\"study_id\", \"ES_id\"])\n",
    "xp_designs.to_csv(xp_designs_path, sep=\" \")\n"
   ]
  },
  {
   "cell_type": "code",
   "execution_count": 11,
   "metadata": {
    "collapsed": false
   },
   "outputs": [],
   "source": [
    "def read_xp_designs(xp_designs_path):\n",
    "    xp_designs = pd.read_csv(xp_designs_path, sep=\" \")\n",
    "    del xp_designs['Unnamed: 0']\n",
    "    xp_designs['base_stims'] = [make_tuple(e) for e in xp_designs['base_stims']]\n",
    "    xp_designs['deviant_stims'] = [make_tuple(e) for e in xp_designs['deviant_stims']]\n",
    "    return xp_designs\n",
    "\n",
    "xp_designs = read_xp_designs(xp_designs_path)\n"
   ]
  },
  {
   "cell_type": "markdown",
   "metadata": {},
   "source": [
    "### Standardize wavefiles\n",
    "\n",
    "stereo -> mono and resampling to 16000 Hz (MFCC function takes fs as an argument, but I don't think it is using it to do the same thing independently of sampling rate)."
   ]
  },
  {
   "cell_type": "code",
   "execution_count": 152,
   "metadata": {
    "collapsed": false
   },
   "outputs": [],
   "source": [
    "std_wav_dir = path.join(root, 'Stimuli', 'standardized_final_stimuli')\n",
    "standardize_fs = True  # If true resample all wavefiles to standard_fs Hz sampling rate\n",
    "standard_fs = 16000\n",
    "\n",
    "base_wavs = [f for e in xp_designs['base_stims'] for f in e]\n",
    "deviant_wavs = [f for e in xp_designs['deviant_stims'] for f in e]\n",
    "wavs = base_wavs + deviant_wavs\n",
    "\n",
    "for wav in wavs:\n",
    "    fpath = path.join(wav_dir, wav)\n",
    "    std_fpath = path.join(std_wav_dir, wav)\n",
    "    tmp_out = os.path.join(std_wav_dir, '__tmp__.wav')  # to avoid shennanigans with self-replacement of a file\n",
    "    with wave.open(fpath, 'rb') as fh:\n",
    "        params = fh.getparams()\n",
    "        assert params.comptype == 'NONE', wav\n",
    "        assert params.compname == 'not compressed', wav\n",
    "        assert params.sampwidth == 2, wav  # 2 bytes == 16 bits\n",
    "        try:\n",
    "            assert params.nchannels == 1, wav\n",
    "        except AssertionError:\n",
    "            assert params.nchannels == 2\n",
    "            # fuse channels with sox\n",
    "            out = subprocess.run([\"sox\", fpath, tmp_out, \"channels\", \"1\"]) \n",
    "            assert out.returncode == 0, out\n",
    "            shutil.move(tmp_out, std_fpath)\n",
    "            fpath = std_fpath\n",
    "        if standardize_fs and params.framerate != standard_fs:\n",
    "            out = subprocess.run([\"sox\", fpath, \"-r\", str(standard_fs), tmp_out]) \n",
    "            assert out.returncode == 0, out\n",
    "            shutil.move(tmp_out, std_fpath)\n",
    "            fpath = std_fpath\n",
    "        if fpath != std_fpath:\n",
    "            shutil.copy(fpath, std_fpath)\n",
    "if path.exists(tmp_out):\n",
    "    os.remove(tmp_out)"
   ]
  },
  {
   "cell_type": "markdown",
   "metadata": {},
   "source": [
    "### Get MFCC and F1F2 figure for each wavefile\n",
    "\n",
    "**Some F1/F2 measurements are currently missing**"
   ]
  },
  {
   "cell_type": "code",
   "execution_count": 36,
   "metadata": {
    "collapsed": false
   },
   "outputs": [],
   "source": [
    "# Get MFCCs for each wav\n",
    "mfcc = {}\n",
    "for wav in wavs:\n",
    "    fpath = os.path.join(std_wav_dir, wav)\n",
    "    data, fs = soundfile.read(fpath)\n",
    "    mfcc[wav] = mfcc_lib.mfcc(data, fs).T  # take the transpose to be in dtw.dtw expected format "
   ]
  },
  {
   "cell_type": "code",
   "execution_count": 37,
   "metadata": {
    "collapsed": true
   },
   "outputs": [],
   "source": [
    "# Get F1F2 for each wav\n",
    "def read_F1F2(filename, sep):\n",
    "    f1f2_n = pd.read_csv(path.join(root, filename['F1F2_natural']), sep=sep['F1F2_natural'])\n",
    "    f1f2_s = pd.read_csv(path.join(root, filename['F1F2_synthetic']), sep=sep['F1F2_synthetic'])\n",
    "    f1f2_all = pd.concat([f1f2_n, f1f2_s])\n",
    "    f1f2 = {}\n",
    "    missing_f1f2 = []\n",
    "    for wav in wavs:\n",
    "        line = f1f2_all[f1f2_all['Filename'] == wav[:-4]]\n",
    "        if len(line) == 0:\n",
    "            missing_f1f2.append(wav)\n",
    "        else:\n",
    "            assert len(line) == 1\n",
    "            f1f2[wav] = np.array([line.f1early.iloc[0], line.f2early.iloc[0],\n",
    "                                  line.f1mid.iloc[0], line.f2mid.iloc[0],\n",
    "                                  line.f1late.iloc[0], line.f2late.iloc[0]])\n",
    "    return f1f2, missing_f1f2\n",
    "\n",
    "f1f2, missing_f1f2 = read_F1F2(filename, sep)"
   ]
  },
  {
   "cell_type": "markdown",
   "metadata": {},
   "source": [
    "### Define dissimilarity measures"
   ]
  },
  {
   "cell_type": "code",
   "execution_count": 39,
   "metadata": {
    "collapsed": true
   },
   "outputs": [],
   "source": [
    "import ABXpy.distances.metrics.dtw as dtw\n",
    "# cosine in ABXpy is actually the angular distance\n",
    "import ABXpy.distances.metrics.cosine as cos\n",
    "\n",
    "\n",
    "def dtw_cosine(x, y):\n",
    "    return dtw.dtw(x, y, cos.cosine_distance, normalized=True)\n",
    "\n",
    "\n",
    "def rms_euclidean(x, y):\n",
    "    d = np.sum((x[:2]-y[:2])**2) + \\\n",
    "        np.sum((x[2:4]-y[2:4])**2) + \\\n",
    "        np.sum((x[4:]-y[4:])**2)\n",
    "    d = np.sqrt(d/3.)\n",
    "    return d"
   ]
  },
  {
   "cell_type": "markdown",
   "metadata": {},
   "source": [
    "### Simulate experiments\n",
    "Get acoustics based ES predictors given xp_designs, distance function, features for each wav"
   ]
  },
  {
   "cell_type": "code",
   "execution_count": 132,
   "metadata": {
    "collapsed": false
   },
   "outputs": [
    {
     "name": "stderr",
     "output_type": "stream",
     "text": [
      "/Users/admin/anaconda/lib/python3.5/site-packages/ABXpy-0.1.0-py3.5-macosx-10.5-x86_64.egg/ABXpy/distances/metrics/cosine.py:29: ComplexWarning: Casting complex values to real discards the imaginary part\n",
      "  d = np.float64(scipy.arccos(d) / np.pi)\n"
     ]
    }
   ],
   "source": [
    "def simulate_trial(df, dis, feats):\n",
    "    assert len(df) == 1, df\n",
    "    xs = df['base_stims'].iloc[0]\n",
    "    ys = df['deviant_stims'].iloc[0]\n",
    "    # assumes counterbalancing here, or at least ignore possible asymetries\n",
    "    # there is probably a more df-style way of doing this, possibly by renaming\n",
    "    # columns and doing an external merge\n",
    "    D_across = 0\n",
    "    for x in xs:\n",
    "        for y in ys:\n",
    "            D_across = D_across + dis(feats[x], feats[y])**2  \n",
    "    D_within_x = 0\n",
    "    for x1 in xs:\n",
    "        for x2 in xs:\n",
    "            D_within_x = D_within_x + dis(feats[x1], feats[x2])**2            \n",
    "    D_within_y = 0\n",
    "    for y1 in ys:\n",
    "        for y2 in ys:\n",
    "            D_within_y = D_within_y + dis(feats[y1], feats[y2])**2        \n",
    "    m = len(xs)\n",
    "    n = len(ys)    \n",
    "    D_across = D_across / float(m*n)\n",
    "    D_within = .5 * (D_within_x / float(m*m) +  D_within_y / float(n*n)) \n",
    "    D = np.sqrt(max(0, D_across-D_within)) \n",
    "    return pd.Series({'D': D}, index=['D'])\n",
    "\n",
    "\n",
    "def simulate_xp(xp_design, dis, feats):\n",
    "    by_trial = xp_design.groupby('trial_id').apply(lambda df: simulate_trial(df, dis, feats))\n",
    "    by_trial.reset_index(level=by_trial.index.names, inplace=True)\n",
    "    return by_trial.groupby('trial_id', as_index=False).mean()\n",
    "\n",
    "\n",
    "def simulate_xps(xp_designs, dis, feats):\n",
    "    res = xp_designs.groupby(['study_id', 'ES_id']).apply(lambda df: simulate_xp(df, dis, feats))\n",
    "    res.reset_index(level=res.index.names, inplace=True)\n",
    "    return res\n",
    " \n",
    "\n",
    "mfcc_regs = simulate_xps(xp_designs, dtw_cosine, mfcc)\n",
    "\n",
    "\n",
    "# provisory f1f2_regs (exclusions based on missing_f1f2)\n",
    "excluded = ['Eilers1984', 'Marean1992', 'Mazuka2013', 'Phan2008', 'Swoboda1976', 'Trainor2002', 'Tsuji2017', \n",
    "            'Versteegh2015']\n",
    "xp_designs2 = xp_designs[[not(e in excluded) for e in xp_designs['study_id']]]\n",
    "f1f2_regs = simulate_xps(xp_designs2, rms_euclidean, f1f2)\n",
    "mfcc_regs_restricted = simulate_xps(xp_designs2, dtw_cosine, mfcc)"
   ]
  },
  {
   "cell_type": "markdown",
   "metadata": {},
   "source": [
    "### Assemble results\n",
    "\n",
    "Assemble dataframe with ES and all relevant predictors (including ones for F1F2 and mfcc).\n",
    "Can then be shipped for mutilevel linear modeling and further analyses.\n",
    "\n",
    "Use 'g_calc' column for effect sizes in inphondb gdoc from OSF is that correct?\n",
    "\n",
    "**TODO**: add other relevant predictors:\n",
    "    - L1\n",
    "    - age\n",
    "    - counterbalancing\n",
    "    - experimental method\n",
    "    - ... (what else do we have in prereg?)"
   ]
  },
  {
   "cell_type": "code",
   "execution_count": 137,
   "metadata": {
    "collapsed": false
   },
   "outputs": [],
   "source": [
    "df = pd.DataFrame({'ES_id': data['ES']['effect_ID'], 'ES': data['ES']['g_calc']})\n",
    "res_df = pd.merge(mfcc_regs, df, on='ES_id')\n",
    "res_df_f1f2 = pd.merge(f1f2_regs, df, on='ES_id')\n",
    "res_df_mfcc_restricted = pd.merge(mfcc_regs_restricted, df, on='ES_id')\n",
    "del res_df_mfcc_restricted['level_2']\n",
    "del res_df_f1f2['level_2']"
   ]
  },
  {
   "cell_type": "markdown",
   "metadata": {},
   "source": [
    "### Quick look at the results and exploratory analyses"
   ]
  },
  {
   "cell_type": "code",
   "execution_count": 143,
   "metadata": {
    "collapsed": false
   },
   "outputs": [
    {
     "name": "stdout",
     "output_type": "stream",
     "text": [
      "[[1.         0.53031387]\n",
      " [0.53031387 1.        ]]\n"
     ]
    },
    {
     "data": {
      "image/png": "[encoded data removed]",
      "text/plain": [
       "<Figure size 600x400 with 1 Axes>"
      ]
     },
     "metadata": {},
     "output_type": "display_data"
    }
   ],
   "source": [
    "# F1F2\n",
    "g = seaborn.regplot(data=res_df_f1f2, x='D', y='ES')\n",
    "g.axes.grid()\n",
    "arr = np.column_stack([res_df_f1f2['D'], res_df_f1f2['ES']]).T\n",
    "print(np.corrcoef(arr))"
   ]
  },
  {
   "cell_type": "code",
   "execution_count": 142,
   "metadata": {
    "collapsed": false
   },
   "outputs": [
    {
     "name": "stdout",
     "output_type": "stream",
     "text": [
      "[[1.         0.56925343]\n",
      " [0.56925343 1.        ]]\n"
     ]
    },
    {
     "data": {
      "image/png": "[encoded data removed]",
      "text/plain": [
       "<Figure size 600x400 with 1 Axes>"
      ]
     },
     "metadata": {},
     "output_type": "display_data"
    }
   ],
   "source": [
    "# MFCC (on same studies as available for F1F2)\n",
    "g = seaborn.regplot(data=res_df_mfcc_restricted, x='D', y='ES')\n",
    "g.axes.grid()\n",
    "arr = np.column_stack([res_df_mfcc_restricted['D'], res_df_mfcc_restricted['ES']]).T\n",
    "print(np.corrcoef(arr))"
   ]
  },
  {
   "cell_type": "code",
   "execution_count": 161,
   "metadata": {
    "collapsed": false
   },
   "outputs": [
    {
     "name": "stdout",
     "output_type": "stream",
     "text": [
      "[[1.         0.93235009]\n",
      " [0.93235009 1.        ]]\n"
     ]
    },
    {
     "data": {
      "image/png": "[encoded data removed]",
      "text/plain": [
       "<Figure size 600x400 with 1 Axes>"
      ]
     },
     "metadata": {},
     "output_type": "display_data"
    }
   ],
   "source": [
    "# Correlation MFCC vs F1F2 predictions\n",
    "data_both = pd.merge(res_df_mfcc_restricted, res_df_f1f2, on=['study_id', 'ES_id', 'trial_id', 'ES'],\n",
    "                     suffixes=['_MFCC', '_F1F2'])\n",
    "assert len(data_both) == len(res_df_mfcc_restricted)\n",
    "assert len(data_both) == len(res_df_f1f2)\n",
    "g = seaborn.regplot(data=data_both, x='D_MFCC', y='D_F1F2')\n",
    "g.axes.grid()\n",
    "arr = np.column_stack([data_both['D_MFCC'], data_both['D_F1F2']]).T\n",
    "print(np.corrcoef(arr))"
   ]
  },
  {
   "cell_type": "code",
   "execution_count": 144,
   "metadata": {
    "collapsed": false
   },
   "outputs": [
    {
     "name": "stdout",
     "output_type": "stream",
     "text": [
      "[[1.         0.49447673]\n",
      " [0.49447673 1.        ]]\n"
     ]
    },
    {
     "data": {
      "image/png": "[encoded data removed]",
      "text/plain": [
       "<Figure size 600x400 with 1 Axes>"
      ]
     },
     "metadata": {},
     "output_type": "display_data"
    }
   ],
   "source": [
    "# MFCC on all studies, but that include some pure duration contrasts we don't want to look at.\n",
    "g = seaborn.regplot(data=res_df, x='D', y='ES')\n",
    "g.axes.grid()\n",
    "arr = np.column_stack([res_df['D'], res_df['ES']]).T\n",
    "print(np.corrcoef(arr))\n",
    "study_id ES_id level_2 trial_id"
   ]
  },
  {
   "cell_type": "code",
   "execution_count": 150,
   "metadata": {
    "collapsed": false
   },
   "outputs": [
    {
     "name": "stdout",
     "output_type": "stream",
     "text": [
      "[[1.         0.61153935]\n",
      " [0.61153935 1.        ]]\n"
     ]
    },
    {
     "data": {
      "image/png": "[encoded data removed]",
      "text/plain": [
       "<Figure size 600x400 with 1 Axes>"
      ]
     },
     "metadata": {},
     "output_type": "display_data"
    }
   ],
   "source": [
    "# MFCC on all studies but the ones with duration contrasts (not completely sure the filtering is perfect here...)\n",
    "g = seaborn.regplot(data=res_df[(res_df['D']>=.005)], x='D', y='ES')\n",
    "g.axes.grid()\n",
    "arr = np.column_stack([res_df[res_df['D']>.005]['D'], res_df[res_df['D']>.005]['ES']]).T\n",
    "print(np.corrcoef(arr))"
   ]
  },
  {
   "cell_type": "code",
   "execution_count": 151,
   "metadata": {
    "collapsed": false
   },
   "outputs": [
    {
     "name": "stdout",
     "output_type": "stream",
     "text": [
      "[[1.         0.17180561]\n",
      " [0.17180561 1.        ]]\n"
     ]
    },
    {
     "data": {
      "image/png": "[encoded data removed]",
      "text/plain": [
       "<Figure size 600x400 with 1 Axes>"
      ]
     },
     "metadata": {},
     "output_type": "display_data"
    }
   ],
   "source": [
    "# MFCC without duration contrasts and without the studies with the largest differences\n",
    "g = seaborn.regplot(data=res_df[(res_df['D']<=.06) & (res_df['D']>=.005)], x='D', y='ES')\n",
    "g.axes.grid()\n",
    "arr = np.column_stack([res_df[(res_df['D']<=.06) & (res_df['D']>=.005)]['D'], res_df[(res_df['D']<=.06) & (res_df['D']>=.005)]['ES']]).T\n",
    "print(np.corrcoef(arr))"
   ]
  },
  {
   "cell_type": "markdown",
   "metadata": {},
   "source": [
    "**TODO**\n",
    "Exploratory analyses (did we pre-reg. some of them?)\n",
    "  - analysis restricted to most reliable stimuli subset (e.g. accurate resynthesis and/or detailed knowledge of xp design)?\n",
    "  - restricted to counterbalanced studies to avoid asymmetry effects?\n",
    "    \n",
    "   \n",
    "Notes on input features (independent of this project):\n",
    "    I don't understand the results with energy en within. Possible interpretation:\n",
    "        en within at least DTW synchronization based on first MFCC/energy and computing distance on the rest is very good?\n",
    "        -> test replacing first coefficient by energy scaled to be similar to first coefficient\n",
    "        -> if works well, maybe try rescaling first coefficient to be more like others and using very salient energy to see if first coefficient might bring something useful on top of energy? More generally, change the distance function to be doing a DTW alignment on selected dimension(s), then get average distance along alignment path (does it make sense now to take the average?) on some other specified dimension(s) (possibly overlapping).\n",
    "        -> comparing using only first MFCC to only energy to only rest of MFCC\n",
    "        \n",
    "    -> if all this true\n",
    "        - does it generalize across speakers?\n",
    "        - might suggest replacing DTW by some rhythmic/syllabic etc. alignment"
   ]
  },
  {
   "cell_type": "code",
   "execution_count": 165,
   "metadata": {
    "collapsed": false
   },
   "outputs": [],
   "source": [
    "with open(path.join(root, 'missing_f1f2.txt'), 'w') as fh:\n",
    "    fh.write(str(missing_f1f2))"
   ]
  },
  {
   "cell_type": "code",
   "execution_count": null,
   "metadata": {
    "collapsed": true
   },
   "outputs": [],
   "source": []
  }
 ],
 "metadata": {
  "kernelspec": {
   "display_name": "Python 3",
   "language": "python",
   "name": "python3"
  },
  "language_info": {
   "codemirror_mode": {
    "name": "ipython",
    "version": 3
   },
   "file_extension": ".py",
   "mimetype": "text/x-python",
   "name": "python",
   "nbconvert_exporter": "python",
   "pygments_lexer": "ipython3",
   "version": "3.5.6"
  }
 },
 "nbformat": 4,
 "nbformat_minor": 0
}
